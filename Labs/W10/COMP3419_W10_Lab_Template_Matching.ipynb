{
  "cells": [
    {
      "cell_type": "code",
      "execution_count": null,
      "metadata": {
        "id": "wef_ho0tcPHI"
      },
      "outputs": [],
      "source": [
        "from google.colab import drive\n",
        "drive.mount('/content/drive')"
      ]
    },
    {
      "cell_type": "code",
      "execution_count": null,
      "metadata": {
        "id": "omXOBeZOb7WY"
      },
      "outputs": [],
      "source": [
        "import numpy as np\n",
        "from scipy import ndimage\n",
        "from imageio import imread\n",
        "import cv2\n",
        "from matplotlib import pyplot as plt\n",
        "import warnings\n",
        "warnings.filterwarnings(\"ignore\")"
      ]
    },
    {
      "cell_type": "markdown",
      "metadata": {
        "id": "hKDFFkBjb7Wl"
      },
      "source": [
        "# Single Scale Template Matching (Week10 Lab Exercise Submission)"
      ]
    },
    {
      "cell_type": "markdown",
      "metadata": {
        "id": "bF8WrGtfb7Wo"
      },
      "source": [
        "### Load template and apply necessary preprocessing"
      ]
    },
    {
      "cell_type": "code",
      "execution_count": null,
      "metadata": {
        "id": "3xvpn2Izb7Wr"
      },
      "outputs": [],
      "source": [
        "template_path = '/content/drive/MyDrive/Colab Notebooks/W10LabData/template.png'\n",
        "template = imread(template_path, pilmode='L')\n",
        "# reverse the grayscale color\n",
        "template = 255 -  template\n",
        "\n",
        "# binarize pixels\n",
        "template[template < 128] = 0\n",
        "template[127 < template] = 255\n",
        "print(template.shape)\n",
        "plt.imshow(template, cmap='gray')\n",
        "plt.show()\n",
        "\n",
        "# print unique elements of template\n",
        "print(np.unique(template))"
      ]
    },
    {
      "cell_type": "markdown",
      "metadata": {
        "id": "Xw_TPisEb7Wu"
      },
      "source": [
        "### Load input image and apply necessary preprocessing"
      ]
    },
    {
      "cell_type": "code",
      "execution_count": null,
      "metadata": {
        "id": "PGQwigKHb7Wv"
      },
      "outputs": [],
      "source": [
        "input_path = '/content/drive/MyDrive/Colab Notebooks/W10LabData/input.png'\n",
        "input_img = imread(input_path, pilmode='L')\n",
        "input_img[input_img < 128] = 0\n",
        "input_img[127 < input_img] = 255\n",
        "input_img = 255 - input_img\n",
        "print(input_img.shape)\n",
        "plt.imshow(input_img, cmap='gray')\n",
        "plt.show()\n",
        "print(np.unique(input_img))"
      ]
    },
    {
      "cell_type": "code",
      "execution_count": null,
      "metadata": {
        "id": "ZpMOhvLQqsHZ"
      },
      "outputs": [],
      "source": [
        "'''HELPER FUNCTIONS'''\n",
        "\n",
        "# preprocessing step to deal with boundary issues\n",
        "def pad_image(img, template):\n",
        "  pad_x = template.shape[0]\n",
        "  pad_y = template.shape[1]\n",
        "  x_pad_sz = int(pad_x / 2)\n",
        "  y_pad_sz = int(pad_y / 2)\n",
        "  padding_2_dims = ((x_pad_sz, x_pad_sz), (y_pad_sz, y_pad_sz))\n",
        "  padded_img = np.pad(img, padding_2_dims, 'constant', constant_values=0)\n",
        "  print('*Padding: FROM ', img.shape,' TO ',padded_img.shape)\n",
        "  return padded_img\n",
        "\n",
        "# calculate the SSD value between candidates and given template\n",
        "def SSD(input_img, template):\n",
        "  pad_x = template.shape[0]\n",
        "  pad_y = template.shape[1]\n",
        "  SSD_map = np.zeros(input_img.shape)\n",
        "  \n",
        "  for x in range(input_img.shape[0]):\n",
        "    for y in range(input_img.shape[1]):\n",
        "      candidate = padded_img[x:x+pad_x, y:y+pad_y]\n",
        "      squared_dist = np.sum((template-candidate)**2)\n",
        "      dist = np.sqrt(squared_dist)\n",
        "      SSD_map[x][y] = dist\n",
        "\n",
        "  return SSD_map\n",
        "\n",
        "# using NMS to find the local_minimum_list, which stores k pairs of x&y coordinates\n",
        "def find_k_min(SSD_map, template, k=5):\n",
        "  pad_x = template.shape[0] // 2\n",
        "  pad_y = template.shape[1] // 2\n",
        "  local_mins = []\n",
        "\n",
        "  for i in range(k):\n",
        "    # find current global min and record the location\n",
        "    loc = np.where(SSD_map==np.min(SSD_map))\n",
        "    x_loc = loc[0][0]\n",
        "    y_loc = loc[1][0]\n",
        "\n",
        "    # suppress neighbours\n",
        "    x_min = max(x_loc - pad_x, 0)\n",
        "    x_max = min(x_loc + pad_x, SSD_map.shape[0])\n",
        "    y_min = max(y_loc - pad_y, 0)\n",
        "    y_max = min(y_loc + pad_y + 1, SSD_map.shape[1])\n",
        "    SSD_map[x_min:x_max, y_min:y_max] = np.max(SSD_map)\n",
        "\n",
        "    # add to local min list\n",
        "    local_mins.append((x_loc, y_loc))\n",
        "  \n",
        "  return local_mins\n",
        "\n",
        "# visualise the k local minimum positions obtained above\n",
        "def visualise_k_min(input_img, template, local_mins):\n",
        "  pad_x = template.shape[0] // 2\n",
        "  pad_y = template.shape[1] // 2\n",
        "  final_img = np.zeros(input_img.shape)\n",
        "  for loc in local_mins:\n",
        "    x_loc = loc[0]\n",
        "    y_loc = loc[1]\n",
        "    x_min = max(x_loc - pad_x, 0)\n",
        "    x_max = min(x_loc + pad_x, final_img.shape[0])\n",
        "    y_min = max(y_loc - pad_y, 0)\n",
        "    y_max = min(y_loc + pad_y + 1, final_img.shape[1])\n",
        "    final_img[x_min:x_max, y_min:y_max] = 255\n",
        "\n",
        "  return final_img"
      ]
    },
    {
      "cell_type": "code",
      "execution_count": null,
      "metadata": {
        "id": "tPlUFo6QBtya"
      },
      "outputs": [],
      "source": [
        "padded_img = pad_image(input_img, template)\n",
        "\n",
        "SSD_map = SSD(input_img, template)"
      ]
    },
    {
      "cell_type": "code",
      "execution_count": null,
      "metadata": {
        "id": "4GbFtm4LCHmU"
      },
      "outputs": [],
      "source": [
        "local_mins = find_k_min(SSD_map, template)"
      ]
    },
    {
      "cell_type": "code",
      "execution_count": null,
      "metadata": {
        "id": "S7MIaCvbFnW5"
      },
      "outputs": [],
      "source": [
        "final_img = visualise_k_min(input_img, template, local_mins)"
      ]
    },
    {
      "cell_type": "code",
      "execution_count": null,
      "metadata": {
        "id": "wCI3egRgKfRX"
      },
      "outputs": [],
      "source": [
        "combined_img = np.hstack((input_img, final_img))\n",
        "plt.imshow(combined_img, cmap='gray')\n",
        "plt.title('Name SID')\n",
        "plt.show()"
      ]
    },
    {
      "cell_type": "markdown",
      "metadata": {
        "id": "GEOQN8G5b7Wx"
      },
      "source": [
        "# Extension: Multi-scale Template Matching"
      ]
    },
    {
      "cell_type": "code",
      "execution_count": null,
      "metadata": {
        "id": "9wPUXJJ2b7Wy"
      },
      "outputs": [],
      "source": [
        "input2 = imread('./W10LabData/input.png', pilmode='L')\n",
        "input2[input2 < 128] = 0\n",
        "input2[127 < input2] = 255\n",
        "input2 = 255 - input2\n",
        "print(input2.shape)\n",
        "plt.imshow(input2, cmap='gray')\n",
        "plt.show()\n",
        "print(np.unique(input2))"
      ]
    },
    {
      "cell_type": "code",
      "execution_count": null,
      "metadata": {
        "id": "uHnlKX3jb7W2"
      },
      "outputs": [],
      "source": [
        "# ToDo: Complete your code here"
      ]
    },
    {
      "cell_type": "markdown",
      "metadata": {
        "id": "J3ATtiRib7W2"
      },
      "source": [
        "# Advanced Extension: Feature-based Template Matching"
      ]
    },
    {
      "cell_type": "code",
      "execution_count": null,
      "metadata": {
        "id": "Fdy5oK3Lb7W4"
      },
      "outputs": [],
      "source": [
        "input3 = imread('./W10LabData/input_feature_based_matching.png', pilmode='L')\n",
        "input3[input3 < 128] = 0\n",
        "input3[127 < input3] = 255\n",
        "input3 = 255 - input3\n",
        "print(input3.shape)\n",
        "plt.imshow(input3, cmap='gray')\n",
        "plt.show()\n",
        "print(np.unique(input3))"
      ]
    },
    {
      "cell_type": "code",
      "execution_count": null,
      "metadata": {
        "id": "6U1IDG9ub7W4"
      },
      "outputs": [],
      "source": [
        "# ToDo: Complete your code here"
      ]
    }
  ],
  "metadata": {
    "colab": {
      "collapsed_sections": [],
      "name": "COMP3419-W10-Lab-Template Matching.ipynb",
      "provenance": []
    },
    "kernelspec": {
      "display_name": "pointconv",
      "language": "python",
      "name": "pointconv"
    },
    "language_info": {
      "codemirror_mode": {
        "name": "ipython",
        "version": 3
      },
      "file_extension": ".py",
      "mimetype": "text/x-python",
      "name": "python",
      "nbconvert_exporter": "python",
      "pygments_lexer": "ipython3",
      "version": "3.8.3"
    }
  },
  "nbformat": 4,
  "nbformat_minor": 0
}
