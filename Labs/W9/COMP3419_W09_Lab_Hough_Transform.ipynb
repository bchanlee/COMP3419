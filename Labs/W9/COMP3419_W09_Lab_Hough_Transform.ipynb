{
  "cells": [
    {
      "cell_type": "code",
      "execution_count": null,
      "metadata": {
        "id": "n_rQHf9cfYwX"
      },
      "outputs": [],
      "source": [
        "from google.colab import drive\n",
        "drive.mount('/content/drive')"
      ]
    },
    {
      "cell_type": "markdown",
      "metadata": {
        "collapsed": true,
        "id": "1NEGIoCxejjp"
      },
      "source": [
        "# Package Required"
      ]
    },
    {
      "cell_type": "code",
      "execution_count": null,
      "metadata": {
        "id": "rf-gjuOtejj8"
      },
      "outputs": [],
      "source": [
        "from imageio import imread\n",
        "from cv2 import resize\n",
        "from matplotlib import pyplot as plt\n",
        "from scipy.ndimage.morphology import binary_dilation, binary_erosion\n",
        "from numpy import array\n",
        "import numpy as np\n",
        "import math\n",
        "from PIL import Image, ImageDraw"
      ]
    },
    {
      "cell_type": "markdown",
      "metadata": {
        "id": "YaQii-4sejkA"
      },
      "source": [
        "# Read Image and Preprocessing"
      ]
    },
    {
      "cell_type": "code",
      "execution_count": null,
      "metadata": {
        "id": "keotwLblejkB"
      },
      "outputs": [],
      "source": [
        "img_path = '/content/drive/MyDrive/Colab Notebooks/W09LabData/binary.png'\n",
        "img = imread(img_path)\n",
        "gray= np.uint8(0.212670 * img[:,:,0] + 0.715160 * img[:,:,1] + 0.072169 * img[:,:,2])\n",
        "gray[gray > 127] = 255\n",
        "gray[gray < 128] = 0\n",
        "binarized = gray\n",
        "\n",
        "# dilation and erosion are applied multiple times to join the two parallel lines and also remove the jagging\n",
        "binarized = binary_erosion(binary_erosion(binary_erosion(binary_dilation(binary_dilation(binarized)))))\n",
        "print(binarized.shape)\n",
        "plt.imshow(binarized, cmap='gray')\n",
        "plt.show()"
      ]
    },
    {
      "cell_type": "markdown",
      "metadata": {
        "id": "hrwdzo84ejkC"
      },
      "source": [
        "# Hough Transform (Week09 Lab Exercise Submission)"
      ]
    },
    {
      "cell_type": "code",
      "execution_count": null,
      "metadata": {
        "id": "3f6tVa2tejkD"
      },
      "outputs": [],
      "source": [
        "# Submission info - reply them with your name & unikey\n",
        "studentname = 'Name'\n",
        "unikey = 'Unikey'\n",
        "\n",
        "# TODO: Complete Hough Transform below (please refer to lab notes for steps)\n",
        "# some variable you may want to use: [binarized]\n",
        "# please name your Hough transfrom matrix as [H], then you use the following codes\n",
        "sample_rate = 0.1\n",
        "width_H = 2*math.pi / sample_rate\n",
        "width_input = binarized.shape[1] # M\n",
        "height_input = binarized.shape[0] # N\n",
        "height_H = 2 * np.sqrt(height_input ** 2 + width_input ** 2)\n",
        "width_H = int(width_H)\n",
        "height_H = int(height_H)\n",
        "H = np.zeros((height_H, width_H))\n",
        "# x, y, theta known\n",
        "for x in range(width_input):\n",
        "  for y in range(height_input):\n",
        "    # check for foreground\n",
        "    if binarized[y][x]:\n",
        "      # substitute theta values\n",
        "      for i in range(width_H):\n",
        "        theta = i*sample_rate\n",
        "        rho = x*np.cos(theta) + y*np.sin(theta)\n",
        "        theta = int(theta)\n",
        "        rho = int(rho) + height_H//2\n",
        "        # increment the value by 1\n",
        "        H[rho][i] += 1\n",
        "\n",
        "H = 256 * H / np.max(H)\n",
        "print('HoughTransform_Matrix.shape=', H.shape)        \n",
        "plt.imshow(H)\n",
        "plt.show()"
      ]
    },
    {
      "cell_type": "code",
      "execution_count": null,
      "metadata": {
        "id": "Fj8hzbISejkE"
      },
      "outputs": [],
      "source": [
        "def scale_H_for_visualization(H):\n",
        "    # H is too thin to be visualized, so this function can rescale it for a better visualization\n",
        "    return resize(H, (H.shape[0], H.shape[1] * 10))\n",
        "plt.title(\"%s(%s)'s Hough Transform Matrix H\"%(studentname, unikey))\n",
        "plt.imshow(scale_H_for_visualization(H))\n",
        "plt.show()\n",
        "# Remember to save your output for your LCP submission."
      ]
    },
    {
      "cell_type": "markdown",
      "metadata": {
        "id": "8QEDVqizejkF"
      },
      "source": [
        "# Next Step: Line Detection"
      ]
    },
    {
      "cell_type": "code",
      "execution_count": null,
      "metadata": {
        "id": "YNjZ_lUUejkF"
      },
      "outputs": [],
      "source": [
        "# Complete your code here"
      ]
    },
    {
      "cell_type": "markdown",
      "metadata": {
        "id": "afWsK7v1ejkG"
      },
      "source": [
        "# Extension: Inverse Hough Transform"
      ]
    },
    {
      "cell_type": "code",
      "execution_count": null,
      "metadata": {
        "id": "55e2Wql3ejkH"
      },
      "outputs": [],
      "source": [
        "# Complete your code here"
      ]
    }
  ],
  "metadata": {
    "colab": {
      "collapsed_sections": [],
      "name": "COMP3419-W09-Lab-Hough Transform.ipynb",
      "provenance": []
    },
    "kernelspec": {
      "display_name": "pointconv",
      "language": "python",
      "name": "pointconv"
    },
    "language_info": {
      "codemirror_mode": {
        "name": "ipython",
        "version": 3
      },
      "file_extension": ".py",
      "mimetype": "text/x-python",
      "name": "python",
      "nbconvert_exporter": "python",
      "pygments_lexer": "ipython3",
      "version": "3.8.3"
    }
  },
  "nbformat": 4,
  "nbformat_minor": 0
}
